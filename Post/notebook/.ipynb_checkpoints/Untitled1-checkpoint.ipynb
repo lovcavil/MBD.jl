{
 "cells": [
  {
   "cell_type": "code",
   "execution_count": 3,
   "id": "32a165e0-2c6c-419e-94ea-35f70d83d93b",
   "metadata": {},
   "outputs": [],
   "source": [
    "import os"
   ]
  },
  {
   "cell_type": "code",
   "execution_count": 4,
   "id": "08648f73-d868-4dec-9fef-5f6a6c8d8373",
   "metadata": {},
   "outputs": [],
   "source": [
    "import pandas as pd\n",
    "import plotly.express as px\n"
   ]
  },
  {
   "cell_type": "code",
   "execution_count": 5,
   "id": "1093ef5d-dc9a-4874-82ca-d685f4223d4b",
   "metadata": {},
   "outputs": [],
   "source": [
    "\n",
    "\n",
    "# Define the function to plot each column using Plotly\n",
    "def plot_each_column_with_generated_time_plotly(fn, data_csv_file, output_folder, time_threshold=None, end_time_threshold=None):\n",
    "    df = pd.read_csv(data_csv_file)\n",
    "    \n",
    "    # Filter the data based on the time threshold\n",
    "    if time_threshold is not None:\n",
    "        df = df[df['t '] >= time_threshold].copy()\n",
    "    \n",
    "    if end_time_threshold is not None:\n",
    "        df = df[df['t '] <= end_time_threshold].copy()\n",
    "    \n",
    "    if time_threshold is not None:\n",
    "        df['t '] -= time_threshold  # Adjust time to start from 0\n",
    "\n",
    "    for column in df.columns:\n",
    "        if column != 't ':\n",
    "            fig = px.line(df, x='t ', y=column, title=f\"{fn} - {column}\", labels={'t ': 'Time [s]', column: 'Fc of roller [N]'})\n",
    "            fig.update_layout(template='plotly_white', font=dict(family='Times New Roman', size=16))\n",
    "            print(f\"Plot saved at: {os.path.join(output_folder, f'{fn}_{column}.png')}\")\n",
    "            fig.write_image(os.path.join(output_folder, f'{fn}_{column}.png'))\n",
    "            fig.show()\n",
    "\n",
    "\n",
    "def run_plotting_plotly(fn, data_csv_file, output_folder, time_threshold=None, end_time_threshold=None):\n",
    "    os.makedirs(output_folder, exist_ok=True)\n",
    "    plot_each_column_with_generated_time_plotly(fn, data_csv_file, output_folder, time_threshold, end_time_threshold)\n",
    "\n",
    "\n",
    "\n"
   ]
  },
  {
   "cell_type": "code",
   "execution_count": 6,
   "id": "0e5410c4-70c2-4db3-8610-4bcfbff9e9ff",
   "metadata": {},
   "outputs": [],
   "source": [
    "    data_csv_file = r\"C:\\OneDrive\\Articles\\10.Working\\[D21][20211009]ContactMechanics\\MBD.jl\\plots\\adams2\\MR_door (run 29)_out2.csv\"  # Replace with your actual data CSV file path\n",
    "    output_folder = './plots/adams2/driv/'  # Replace with your desired output folder path\n",
    "    time_threshold = 98.0  # Replace with your desired start time threshold\n",
    "    end_time_threshold = 100.0  # Replace with your desired end time threshold\n",
    "fn= 'driv'\n",
    "    #run_plotting_plotly('driv', data_csv_file, output_folder, time_threshold=time_threshold, end_time_threshold=end_time_threshold)"
   ]
  },
  {
   "cell_type": "code",
   "execution_count": 7,
   "id": "a522c85e-1752-4b7f-a412-06a42b636157",
   "metadata": {},
   "outputs": [],
   "source": [
    "df = pd.read_csv(data_csv_file)"
   ]
  },
  {
   "cell_type": "code",
   "execution_count": 8,
   "id": "a03a8ed6-39df-4080-9bdb-f66638fec822",
   "metadata": {},
   "outputs": [
    {
     "name": "stdout",
     "output_type": "stream",
     "text": [
      "              t   Strain@B1_1.RN_6  Strain@B2_1.RN_6  Strain@B2_2.RN_6  \\\n",
      "0        0.00000          55.90237         -6.836543         -6.210235   \n",
      "1        0.00195          56.36505         -6.467235         -5.934067   \n",
      "2        0.00391          56.82773         -6.097928         -5.657900   \n",
      "3        0.00586          56.92027         -6.097928         -5.565844   \n",
      "4        0.00781          56.64266         -6.282581         -5.749956   \n",
      "...          ...               ...               ...               ...   \n",
      "56595  110.53711          55.16208        -11.360560        -14.863480   \n",
      "56596  110.53906          55.16208        -11.360560        -14.955530   \n",
      "56597  110.54102          55.16208        -11.360560        -14.955530   \n",
      "56598  110.54297          55.16208        -11.452890        -14.955530   \n",
      "56599  110.54492          55.16208        -11.452890        -14.955530   \n",
      "\n",
      "       Strain@B2_3.RN_6  Strain@B2_4.RN_6  Strain@B3_1.RN_6  Strain@B3_2.RN_6  \\\n",
      "0             -158.1997         -4.321727          1.104279        -13.458390   \n",
      "1             -157.8309         -4.045592          1.472033        -13.089580   \n",
      "2             -157.6465         -3.861501          1.747848        -12.720770   \n",
      "3             -157.5543         -3.861501          1.839787        -12.720770   \n",
      "4             -157.7387         -4.045592          1.655910        -12.905170   \n",
      "...                 ...               ...               ...               ...   \n",
      "56595         -163.4548         -5.058088         -3.032952         -4.606874   \n",
      "56596         -163.4548         -5.150133         -3.032952         -4.699077   \n",
      "56597         -163.4548         -5.150133         -3.032952         -4.699077   \n",
      "56598         -163.4548         -5.150133         -3.032952         -4.699077   \n",
      "56599         -163.4548         -5.150133         -3.032952         -4.606874   \n",
      "\n",
      "       Strain@B3_3.RN_6  Strain@B3_4.RN_6  ...  acc@A5_X.RN_6  acc@A5_Y.RN_6  \\\n",
      "0             -55.49899         -4.417109  ...      -0.011747       0.034240   \n",
      "1             -55.22283         -4.140358  ...      -0.011747       0.032685   \n",
      "2             -54.94667         -3.863608  ...      -0.011747       0.031129   \n",
      "3             -54.85461         -3.863608  ...      -0.008646       0.028018   \n",
      "4             -55.03872         -3.955858  ...      -0.005544       0.028018   \n",
      "...                 ...               ...  ...            ...            ...   \n",
      "56595         -54.85461         -4.048108  ...      -0.011747       0.034240   \n",
      "56596         -54.85461         -4.048108  ...      -0.013298       0.034240   \n",
      "56597         -54.85461         -4.140358  ...      -0.013298       0.032685   \n",
      "56598         -54.85461         -4.140358  ...      -0.013298       0.032685   \n",
      "56599         -54.85461         -4.140358  ...      -0.011747       0.034240   \n",
      "\n",
      "       acc@A5_Z.RN_6  acc@A6_X.RN_6  acc@A6_Y.RN_6  acc@A6_Z.RN_6  \\\n",
      "0           0.004005       0.021017       0.047744       0.030434   \n",
      "1           0.004005       0.021017       0.047744       0.030434   \n",
      "2           0.004005       0.019464       0.047744       0.028887   \n",
      "3           0.004005       0.019464       0.047744       0.028887   \n",
      "4           0.002452       0.019464       0.046186       0.028887   \n",
      "...              ...            ...            ...            ...   \n",
      "56595       0.008664       0.017912       0.046186       0.028887   \n",
      "56596       0.008664       0.017912       0.047744       0.027341   \n",
      "56597       0.008664       0.019464       0.047744       0.027341   \n",
      "56598       0.007111       0.019464       0.047744       0.025795   \n",
      "56599       0.002452       0.019464       0.047744       0.025795   \n",
      "\n",
      "       acc@A7_X.RN_6  acc@A7_Y.RN_6  acc@A7_Z.RN_6  can@press.RN_6  \n",
      "0           0.012461       0.026463      -0.007929         1.52592  \n",
      "1           0.011531       0.027389      -0.006688         1.52592  \n",
      "2           0.010292       0.027080      -0.005137         1.52592  \n",
      "3           0.009362       0.026463      -0.003896         1.52592  \n",
      "4           0.009672       0.026463      -0.003896         1.52592  \n",
      "...              ...            ...            ...             ...  \n",
      "56595       0.010292       0.029240      -0.004206         1.52592  \n",
      "56596       0.009982       0.030474      -0.004826         1.52592  \n",
      "56597       0.009672       0.030474      -0.005137         1.52592  \n",
      "56598       0.009672       0.029240      -0.005137         1.52592  \n",
      "56599       0.009672       0.027389      -0.004516         1.52592  \n",
      "\n",
      "[56600 rows x 32 columns]\n"
     ]
    }
   ],
   "source": [
    "print(df)"
   ]
  },
  {
   "cell_type": "code",
   "execution_count": 9,
   "id": "7460e983-5951-42f1-bd5b-848fa483ec56",
   "metadata": {},
   "outputs": [],
   "source": [
    "\n",
    "    # Filter the data based on the time threshold\n",
    "    if time_threshold is not None:\n",
    "        df = df[df['t '] >= time_threshold].copy()\n",
    "    \n",
    "    if end_time_threshold is not None:\n",
    "        df = df[df['t '] <= end_time_threshold].copy()\n",
    "    \n",
    "    if time_threshold is not None:\n",
    "        df['t '] -= time_threshold  # Adjust time to start from 0\n",
    "\n"
   ]
  },
  {
   "cell_type": "code",
   "execution_count": 10,
   "id": "7f7307b5-947d-4e63-9d18-9624eed8e0ba",
   "metadata": {},
   "outputs": [
    {
     "ename": "NameError",
     "evalue": "name 'fn' is not defined",
     "output_type": "error",
     "traceback": [
      "\u001b[1;31m---------------------------------------------------------------------------\u001b[0m",
      "\u001b[1;31mNameError\u001b[0m                                 Traceback (most recent call last)",
      "Cell \u001b[1;32mIn[10], line 3\u001b[0m\n\u001b[0;32m      1\u001b[0m \u001b[38;5;28;01mfor\u001b[39;00m column \u001b[38;5;129;01min\u001b[39;00m df\u001b[38;5;241m.\u001b[39mcolumns:\n\u001b[0;32m      2\u001b[0m     \u001b[38;5;28;01mif\u001b[39;00m column \u001b[38;5;241m==\u001b[39m \u001b[38;5;124m'\u001b[39m\u001b[38;5;124mStrain@B1_1.RN_6\u001b[39m\u001b[38;5;124m'\u001b[39m:\n\u001b[1;32m----> 3\u001b[0m         fig \u001b[38;5;241m=\u001b[39m px\u001b[38;5;241m.\u001b[39mline(df, x\u001b[38;5;241m=\u001b[39m\u001b[38;5;124m'\u001b[39m\u001b[38;5;124mt \u001b[39m\u001b[38;5;124m'\u001b[39m, y\u001b[38;5;241m=\u001b[39mcolumn, title\u001b[38;5;241m=\u001b[39m\u001b[38;5;124mf\u001b[39m\u001b[38;5;124m\"\u001b[39m\u001b[38;5;132;01m{\u001b[39;00mfn\u001b[38;5;132;01m}\u001b[39;00m\u001b[38;5;124m - \u001b[39m\u001b[38;5;132;01m{\u001b[39;00mcolumn\u001b[38;5;132;01m}\u001b[39;00m\u001b[38;5;124m\"\u001b[39m, labels\u001b[38;5;241m=\u001b[39m{\u001b[38;5;124m'\u001b[39m\u001b[38;5;124mt \u001b[39m\u001b[38;5;124m'\u001b[39m: \u001b[38;5;124m'\u001b[39m\u001b[38;5;124mTime [s]\u001b[39m\u001b[38;5;124m'\u001b[39m, column: \u001b[38;5;124m'\u001b[39m\u001b[38;5;124mFc of roller [N]\u001b[39m\u001b[38;5;124m'\u001b[39m})\n\u001b[0;32m      4\u001b[0m         fig\u001b[38;5;241m.\u001b[39mupdate_layout(template\u001b[38;5;241m=\u001b[39m\u001b[38;5;124m'\u001b[39m\u001b[38;5;124mplotly_white\u001b[39m\u001b[38;5;124m'\u001b[39m, font\u001b[38;5;241m=\u001b[39m\u001b[38;5;28mdict\u001b[39m(family\u001b[38;5;241m=\u001b[39m\u001b[38;5;124m'\u001b[39m\u001b[38;5;124mTimes New Roman\u001b[39m\u001b[38;5;124m'\u001b[39m, size\u001b[38;5;241m=\u001b[39m\u001b[38;5;241m16\u001b[39m))\n\u001b[0;32m      5\u001b[0m         \u001b[38;5;28mprint\u001b[39m(\u001b[38;5;124mf\u001b[39m\u001b[38;5;124m\"\u001b[39m\u001b[38;5;124mPlot saved at: \u001b[39m\u001b[38;5;132;01m{\u001b[39;00mos\u001b[38;5;241m.\u001b[39mpath\u001b[38;5;241m.\u001b[39mjoin(output_folder,\u001b[38;5;250m \u001b[39m\u001b[38;5;124mf\u001b[39m\u001b[38;5;124m'\u001b[39m\u001b[38;5;132;01m{\u001b[39;00mfn\u001b[38;5;132;01m}\u001b[39;00m\u001b[38;5;124m_\u001b[39m\u001b[38;5;132;01m{\u001b[39;00mcolumn\u001b[38;5;132;01m}\u001b[39;00m\u001b[38;5;124m.png\u001b[39m\u001b[38;5;124m'\u001b[39m)\u001b[38;5;132;01m}\u001b[39;00m\u001b[38;5;124m\"\u001b[39m)\n",
      "\u001b[1;31mNameError\u001b[0m: name 'fn' is not defined"
     ]
    }
   ],
   "source": [
    "\n",
    "    for column in df.columns:\n",
    "        if column == 'Strain@B1_1.RN_6':\n",
    "            fig = px.line(df, x='t ', y=column, title=f\"{fn} - {column}\", labels={'t ': 'Time [s]', column: 'Fc of roller [N]'})\n",
    "            fig.update_layout(template='plotly_white', font=dict(family='Times New Roman', size=16))\n",
    "            print(f\"Plot saved at: {os.path.join(output_folder, f'{fn}_{column}.png')}\")\n",
    "            fig.write_image(os.path.join(output_folder, f'{fn}_{column}.png'))\n",
    "            fig.show()\n"
   ]
  },
  {
   "cell_type": "code",
   "execution_count": null,
   "id": "d65a857e-f3f9-465e-9a30-c8bf23df2209",
   "metadata": {},
   "outputs": [],
   "source": []
  }
 ],
 "metadata": {
  "kernelspec": {
   "display_name": "Python 3 (ipykernel)",
   "language": "python",
   "name": "python3"
  },
  "language_info": {
   "codemirror_mode": {
    "name": "ipython",
    "version": 3
   },
   "file_extension": ".py",
   "mimetype": "text/x-python",
   "name": "python",
   "nbconvert_exporter": "python",
   "pygments_lexer": "ipython3",
   "version": "3.10.14"
  }
 },
 "nbformat": 4,
 "nbformat_minor": 5
}
