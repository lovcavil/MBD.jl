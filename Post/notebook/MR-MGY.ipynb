{
 "cells": [
  {
   "cell_type": "code",
   "execution_count": 1,
   "id": "b644f64d-2af5-4d5e-8a45-c17e5cac70b7",
   "metadata": {},
   "outputs": [
    {
     "ename": "ModuleNotFoundError",
     "evalue": "No module named 'plotly'",
     "output_type": "error",
     "traceback": [
      "\u001b[1;31m---------------------------------------------------------------------------\u001b[0m",
      "\u001b[1;31mModuleNotFoundError\u001b[0m                       Traceback (most recent call last)",
      "Cell \u001b[1;32mIn[1], line 1\u001b[0m\n\u001b[1;32m----> 1\u001b[0m \u001b[38;5;28;01mimport\u001b[39;00m \u001b[38;5;21;01mmod\u001b[39;00m \u001b[38;5;28;01mas\u001b[39;00m \u001b[38;5;21;01mdp\u001b[39;00m\n\u001b[0;32m      2\u001b[0m \u001b[38;5;28;01mimport\u001b[39;00m \u001b[38;5;21;01mplotly\u001b[39;00m\u001b[38;5;21;01m.\u001b[39;00m\u001b[38;5;21;01mgraph_objs\u001b[39;00m \u001b[38;5;28;01mas\u001b[39;00m \u001b[38;5;21;01mgo\u001b[39;00m\n\u001b[0;32m      4\u001b[0m \u001b[38;5;66;03m# Define paths\u001b[39;00m\n",
      "File \u001b[1;32mD:\\OneDrive\\Articles\\10.Working\\[D21][20211009]ContactMechanics\\MBD.jl\\Post\\notebook\\mod.py:4\u001b[0m\n\u001b[0;32m      2\u001b[0m \u001b[38;5;28;01mimport\u001b[39;00m \u001b[38;5;21;01mnumpy\u001b[39;00m \u001b[38;5;28;01mas\u001b[39;00m \u001b[38;5;21;01mnp\u001b[39;00m\n\u001b[0;32m      3\u001b[0m \u001b[38;5;28;01mfrom\u001b[39;00m \u001b[38;5;21;01mscipy\u001b[39;00m\u001b[38;5;21;01m.\u001b[39;00m\u001b[38;5;21;01mfft\u001b[39;00m \u001b[38;5;28;01mimport\u001b[39;00m fft, ifft\n\u001b[1;32m----> 4\u001b[0m \u001b[38;5;28;01mimport\u001b[39;00m \u001b[38;5;21;01mplotly\u001b[39;00m\u001b[38;5;21;01m.\u001b[39;00m\u001b[38;5;21;01mgraph_objs\u001b[39;00m \u001b[38;5;28;01mas\u001b[39;00m \u001b[38;5;21;01mgo\u001b[39;00m\n\u001b[0;32m      6\u001b[0m scaling_dict \u001b[38;5;241m=\u001b[39m {\n\u001b[0;32m      7\u001b[0m     \u001b[38;5;124m'\u001b[39m\u001b[38;5;124mStrain@B1_1.RN_6\u001b[39m\u001b[38;5;124m'\u001b[39m: \u001b[38;5;241m0.339\u001b[39m,\n\u001b[0;32m      8\u001b[0m     \u001b[38;5;124m'\u001b[39m\u001b[38;5;124mStrain@B2_1.RN_6\u001b[39m\u001b[38;5;124m'\u001b[39m: \u001b[38;5;241m0.3505\u001b[39m,\n\u001b[1;32m   (...)\u001b[0m\n\u001b[0;32m     17\u001b[0m     \u001b[38;5;66;03m# Add other columns and their scaling factors here\u001b[39;00m\n\u001b[0;32m     18\u001b[0m }\n\u001b[0;32m     20\u001b[0m \u001b[38;5;28;01mdef\u001b[39;00m \u001b[38;5;21mload_data\u001b[39m(path1, path2):\n",
      "\u001b[1;31mModuleNotFoundError\u001b[0m: No module named 'plotly'"
     ]
    }
   ],
   "source": [
    "import mod as dp\n",
    "import plotly.graph_objs as go\n",
    "\n",
    "# Define paths\n",
    "path1 = r\"D:\\OneDrive\\Articles\\10.Working\\[D21][20211009]ContactMechanics\\MBD.jl\\plots\\adams2\\MR_door (run 29)_out2.csv\"\n",
    "path2 = r\"D:\\OneDrive\\Articles\\10.Working\\[D21][20211009]ContactMechanics\\MBD.jl\\plots\\adams2\\6\\GFO_MG U3_export.csv\"\n",
    "\n",
    "# Load data\n",
    "df1, df2 = dp.load_data(path1, path2)\n",
    "\n",
    "# Define parameters\n",
    "selected_columns1 = ['Strain@B3_1.RN_6']\n",
    "start_time1 = 98.4\n",
    "end_time1 = 100\n",
    "selected_columns2 = ['413.asc','414.asc','415.asc','416.asc','417.asc','418.asc','419.asc']  # Replace with actual column names\n",
    "start_time2 = 0\n",
    "end_time2 = 2\n",
    "data_amount = 8\n",
    "smoothing_method = 'Fourier Filter'\n",
    "window_sizes1 = [999]*9\n",
    "window_sizes2 = [70]*9\n",
    "\n",
    "# Filter data\n",
    "filtered_df1, filtered_df2, selected_columns1, selected_columns2 = dp.filter_data(df1, df2, start_time1, end_time1, start_time2, end_time2, selected_columns1, selected_columns2, data_amount)\n",
    "#print(filtered_df1)\n",
    "# Apply scaling\n",
    "filtered_df1 = dp.apply_scaling(filtered_df1, selected_columns1)\n",
    "#print(filtered_df1)\n",
    "# Apply smoothing\n",
    "filtered_df1, filtered_df2 = dp.apply_smoothing(filtered_df1, filtered_df2, selected_columns1, selected_columns2, smoothing_method, window_sizes1, window_sizes2)\n",
    "\n",
    "# Create figure\n",
    "fig = dp.create_figure(filtered_df1, filtered_df2, selected_columns1, selected_columns2, start_time1)\n",
    "\n",
    "# Show the figure (or save it)\n",
    "fig.show()  # Or use fig.write_image(\"output.png\") to save the figure as an image\n"
   ]
  },
  {
   "cell_type": "code",
   "execution_count": null,
   "id": "e3dce9a4-56d5-45f5-bcb4-e6bb0fd1c18d",
   "metadata": {},
   "outputs": [],
   "source": []
  },
  {
   "cell_type": "code",
   "execution_count": null,
   "id": "7344e6bb-34a1-48b2-a8aa-9244c060043a",
   "metadata": {},
   "outputs": [],
   "source": []
  }
 ],
 "metadata": {
  "kernelspec": {
   "display_name": "Python 3 (ipykernel)",
   "language": "python",
   "name": "python3"
  },
  "language_info": {
   "codemirror_mode": {
    "name": "ipython",
    "version": 3
   },
   "file_extension": ".py",
   "mimetype": "text/x-python",
   "name": "python",
   "nbconvert_exporter": "python",
   "pygments_lexer": "ipython3",
   "version": "3.10.14"
  }
 },
 "nbformat": 4,
 "nbformat_minor": 5
}
