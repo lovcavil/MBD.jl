{
 "cells": [
  {
   "cell_type": "code",
   "execution_count": 2,
   "id": "899aadb8-cacd-4c85-acf6-12d36b13841a",
   "metadata": {},
   "outputs": [],
   "source": [
    "import pandas as pd\n",
    "import pygwalker"
   ]
  },
  {
   "cell_type": "code",
   "execution_count": 3,
   "id": "857d48b8-f83f-406d-a363-d4620c72553b",
   "metadata": {},
   "outputs": [],
   "source": [
    "df=pd.read_csv(f'./csv/Euler_run1.csv')"
   ]
  },
  {
   "cell_type": "code",
   "execution_count": 4,
   "id": "5e53e9c0-07cf-4554-8dd2-071a38f1614b",
   "metadata": {},
   "outputs": [
    {
     "data": {
      "application/vnd.jupyter.widget-view+json": {
       "model_id": "597bd1ef19da4e76a08620c59784542d",
       "version_major": 2,
       "version_minor": 0
      },
      "text/plain": [
       "Box(children=(HTML(value='<div id=\"ifr-pyg-00061a29a4dbc6a8PnAa6dqWrXB2OImS\" style=\"height: auto\">\\n    <head>…"
      ]
     },
     "metadata": {},
     "output_type": "display_data"
    },
    {
     "data": {
      "text/html": [],
      "text/plain": [
       "<IPython.core.display.HTML object>"
      ]
     },
     "metadata": {},
     "output_type": "display_data"
    }
   ],
   "source": [
    "walker = pygwalker.walk(df)"
   ]
  },
  {
   "cell_type": "code",
   "execution_count": null,
   "id": "75cf28c6-84cc-4237-a508-74a43601f35e",
   "metadata": {},
   "outputs": [],
   "source": []
  },
  {
   "cell_type": "code",
   "execution_count": null,
   "id": "baa35970-b3f9-4148-9a9b-2bcb5aa1a3ff",
   "metadata": {},
   "outputs": [],
   "source": []
  }
 ],
 "metadata": {
  "kernelspec": {
   "display_name": "Python 3 (ipykernel)",
   "language": "python",
   "name": "python3"
  },
  "language_info": {
   "codemirror_mode": {
    "name": "ipython",
    "version": 3
   },
   "file_extension": ".py",
   "mimetype": "text/x-python",
   "name": "python",
   "nbconvert_exporter": "python",
   "pygments_lexer": "ipython3",
   "version": "3.10.14"
  }
 },
 "nbformat": 4,
 "nbformat_minor": 5
}
